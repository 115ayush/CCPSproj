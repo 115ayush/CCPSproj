{
  "nbformat": 4,
  "nbformat_minor": 0,
  "metadata": {
    "colab": {
      "provenance": [],
      "authorship_tag": "ABX9TyNQ6Zd/RR6jpTgnc7XAgcJv",
      "include_colab_link": true
    },
    "kernelspec": {
      "name": "python3",
      "display_name": "Python 3"
    },
    "language_info": {
      "name": "python"
    }
  },
  "cells": [
    {
      "cell_type": "markdown",
      "metadata": {
        "id": "view-in-github",
        "colab_type": "text"
      },
      "source": [
        "<a href=\"https://colab.research.google.com/github/115ayush/CCPSproj/blob/main/12240350_Ayush_Patel_a1.ipynb\" target=\"_parent\"><img src=\"https://colab.research.google.com/assets/colab-badge.svg\" alt=\"Open In Colab\"/></a>"
      ]
    },
    {
      "cell_type": "code",
      "execution_count": 4,
      "metadata": {
        "colab": {
          "base_uri": "https://localhost:8080/"
        },
        "id": "tQTvLIVLr58m",
        "outputId": "17e4ab91-fa12-45b8-897b-333fa12383bc"
      },
      "outputs": [
        {
          "output_type": "stream",
          "name": "stdout",
          "text": [
            "Original Data:\n",
            " fixed acidity  volatile acidity  citric acid  residual sugar  chlorides  free sulfur dioxide  total sulfur dioxide  density   pH  sulphates  alcohol  quality   Id\n",
            "          10.2              0.42         0.57             3.4      0.070                  4.0                  10.0  0.99710 3.04       0.63      9.6        5   56\n",
            "           7.7              0.26         0.26             2.0      0.052                 19.0                  77.0  0.99510 3.15       0.79     10.9        6 1198\n",
            "           6.4              0.36         0.21             2.2      0.047                 26.0                  48.0  0.99661 3.47       0.77      9.7        6 1510\n",
            "           8.3              0.28         0.48             2.1      0.093                  6.0                  12.0  0.99408 3.26       0.62     12.4        7  951\n",
            "           7.1              0.43         0.42             5.5      0.071                 28.0                 128.0  0.99730 3.42       0.71     10.5        5  155\n",
            "\n",
            "Data with 'quality' converted:\n",
            " fixed acidity  volatile acidity  citric acid  residual sugar  chlorides  free sulfur dioxide  total sulfur dioxide  density   pH  sulphates   alcohol  quality   Id\n",
            "           6.5             0.340         0.27             2.8      0.067                  8.0                  44.0  0.99384 3.21       0.56 12.000000        0 1168\n",
            "           6.9             0.490         0.10             2.3      0.074                 12.0                  30.0  0.99590 3.42       0.58 10.200000        0  148\n",
            "          13.2             0.380         0.55             2.7      0.081                  5.0                  16.0  1.00060 2.98       0.54  9.400000        0  611\n",
            "          11.6             0.475         0.40             1.4      0.091                  6.0                  28.0  0.99704 3.07       0.65 10.033333        0 1359\n",
            "           9.3             0.330         0.45             1.5      0.057                 19.0                  37.0  0.99498 3.18       0.89 11.100000        1 1070\n",
            "\n",
            "Normalized Data:\n",
            " fixed acidity  volatile acidity  citric acid  residual sugar  chlorides  free sulfur dioxide  total sulfur dioxide  density       pH  sulphates  alcohol  quality       Id\n",
            "      0.548673          0.191781         0.41        0.089041   0.120200             0.089552              0.038869 0.611601 0.267717   0.203593 0.138462        0 0.423294\n",
            "      0.442478          0.445205         0.12        0.136986   0.116861             0.432836              0.240283 0.629956 0.440945   0.185629 0.307692        0 0.199750\n",
            "      0.530973          0.260274         0.45        0.116438   0.178631             0.492537              0.219081 0.514684 0.385827   0.233533 0.384615        0 0.527239\n",
            "      0.345133          0.366438         0.49        0.356164   0.183639             0.492537              0.512367 0.802496 0.448819   0.485030 0.138462        0 0.322480\n",
            "      0.088496          0.500000         0.05        0.034247   0.055092             0.164179              0.289753 0.171072 0.645669   0.293413 0.692308        1 0.244208\n"
          ]
        }
      ],
      "source": [
        "import pandas as pd\n",
        "from sklearn.preprocessing import MinMaxScaler\n",
        "\n",
        "df = pd.read_csv('/content/WineQT.csv')\n",
        "\n",
        "# Display the first few rows of the dataframe\n",
        "print(\"Original Data:\")\n",
        "print(df.sample(5).to_string(index=False))\n",
        "\n",
        "# Convert 'quality' attribute to 0 (bad) or 1 (good)\n",
        "df['quality'] = df['quality'].apply(lambda x: 0 if x <= 6 else 1)\n",
        "\n",
        "# Print the modified dataframe\n",
        "print(\"\\nData with 'quality' converted:\")\n",
        "print(df.sample(5).to_string(index=False))\n",
        "\n",
        "# Select columns to normalize (exclude 'quality')\n",
        "columns_to_scale = df.columns.difference(['quality'])\n",
        "\n",
        "# Initialize MinMaxScaler\n",
        "scaler = MinMaxScaler()\n",
        "\n",
        "# Fit and transform the data\n",
        "df[columns_to_scale] = scaler.fit_transform(df[columns_to_scale])\n",
        "\n",
        "# Print the normalized dataframe\n",
        "print(\"\\nNormalized Data:\")\n",
        "print(df.sample(5).to_string(index=False))\n"
      ]
    }
  ]
}